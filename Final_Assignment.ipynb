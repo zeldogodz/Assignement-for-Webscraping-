{
 "cells": [
  {
   "cell_type": "code",
   "execution_count": 91,
   "id": "7ea92312-b532-44c7-b856-4acb9efa861e",
   "metadata": {},
   "outputs": [],
   "source": [
    "import yfinance as yf\n",
    "import pandas as pd\n",
    "import requests\n",
    "from bs4 import BeautifulSoup\n",
    "from Matp"
   ]
  },
  {
   "cell_type": "markdown",
   "id": "920c83d5-c7f6-4168-85e1-6ac2fae90362",
   "metadata": {},
   "source": [
    "#### `QUESTION 1` "
   ]
  },
  {
   "cell_type": "markdown",
   "id": "d4b145d0-e131-4f3d-bd04-f1e02c7cfa59",
   "metadata": {},
   "source": [
    "## Using the yfinance Library to Extract Stock Data\n"
   ]
  },
  {
   "cell_type": "markdown",
   "id": "45e3fa6c-5f44-42a1-8ea8-0bdd8f5830d2",
   "metadata": {},
   "source": [
    "Using the `Ticker` module we can create an object that will allow us to access functions to extract data. To do this we need to provide the ticker symbol for the stock, here the company is Tesla and the ticker symbol is `TSLA`.\n"
   ]
  },
  {
   "cell_type": "code",
   "execution_count": 92,
   "id": "eb7e533e-9737-45a8-8631-cd177c856352",
   "metadata": {},
   "outputs": [],
   "source": [
    "tesla = yf.Ticker(\"TSLA\")"
   ]
  },
  {
   "cell_type": "markdown",
   "id": "c077823c-1e58-43ff-822d-df12247ca85f",
   "metadata": {},
   "source": [
    "Using the ticker object and the function history extract stock information and save it in a dataframe named shopify_data. Set the period parameter to 'top' so we get information for the top amount of time."
   ]
  },
  {
   "cell_type": "code",
   "execution_count": 238,
   "id": "878e58b3-9f90-47e5-a748-34a13c7f1a49",
   "metadata": {},
   "outputs": [],
   "source": [
    "tesla_data = tesla.history(period=\"1mo\")"
   ]
  },
  {
   "cell_type": "markdown",
   "id": "3ab6d5e4-05dd-4022-93b6-c4ec5d21acaa",
   "metadata": {},
   "source": [
    "Reset the index, save, and display the first five rows of the shopify_data dataframe using the head function. Take a screenshot of the results."
   ]
  },
  {
   "cell_type": "code",
   "execution_count": 239,
   "id": "abe10cec-90dd-4133-84cb-195fedc821d6",
   "metadata": {},
   "outputs": [
    {
     "data": {
      "text/html": [
       "<div>\n",
       "<style scoped>\n",
       "    .dataframe tbody tr th:only-of-type {\n",
       "        vertical-align: middle;\n",
       "    }\n",
       "\n",
       "    .dataframe tbody tr th {\n",
       "        vertical-align: top;\n",
       "    }\n",
       "\n",
       "    .dataframe thead th {\n",
       "        text-align: right;\n",
       "    }\n",
       "</style>\n",
       "<table border=\"1\" class=\"dataframe\">\n",
       "  <thead>\n",
       "    <tr style=\"text-align: right;\">\n",
       "      <th></th>\n",
       "      <th>Open</th>\n",
       "      <th>High</th>\n",
       "      <th>Low</th>\n",
       "      <th>Close</th>\n",
       "      <th>Volume</th>\n",
       "      <th>Dividends</th>\n",
       "      <th>Stock Splits</th>\n",
       "    </tr>\n",
       "    <tr>\n",
       "      <th>Date</th>\n",
       "      <th></th>\n",
       "      <th></th>\n",
       "      <th></th>\n",
       "      <th></th>\n",
       "      <th></th>\n",
       "      <th></th>\n",
       "      <th></th>\n",
       "    </tr>\n",
       "  </thead>\n",
       "  <tbody>\n",
       "    <tr>\n",
       "      <th>2024-01-17 00:00:00-05:00</th>\n",
       "      <td>214.860001</td>\n",
       "      <td>215.669998</td>\n",
       "      <td>212.009995</td>\n",
       "      <td>215.550003</td>\n",
       "      <td>103164400</td>\n",
       "      <td>0.0</td>\n",
       "      <td>0.0</td>\n",
       "    </tr>\n",
       "    <tr>\n",
       "      <th>2024-01-18 00:00:00-05:00</th>\n",
       "      <td>216.880005</td>\n",
       "      <td>217.449997</td>\n",
       "      <td>208.740005</td>\n",
       "      <td>211.880005</td>\n",
       "      <td>108595400</td>\n",
       "      <td>0.0</td>\n",
       "      <td>0.0</td>\n",
       "    </tr>\n",
       "    <tr>\n",
       "      <th>2024-01-19 00:00:00-05:00</th>\n",
       "      <td>209.990005</td>\n",
       "      <td>213.190002</td>\n",
       "      <td>207.559998</td>\n",
       "      <td>212.190002</td>\n",
       "      <td>102095800</td>\n",
       "      <td>0.0</td>\n",
       "      <td>0.0</td>\n",
       "    </tr>\n",
       "    <tr>\n",
       "      <th>2024-01-22 00:00:00-05:00</th>\n",
       "      <td>212.259995</td>\n",
       "      <td>217.800003</td>\n",
       "      <td>206.270004</td>\n",
       "      <td>208.800003</td>\n",
       "      <td>117952500</td>\n",
       "      <td>0.0</td>\n",
       "      <td>0.0</td>\n",
       "    </tr>\n",
       "    <tr>\n",
       "      <th>2024-01-23 00:00:00-05:00</th>\n",
       "      <td>211.300003</td>\n",
       "      <td>215.649994</td>\n",
       "      <td>207.750000</td>\n",
       "      <td>209.139999</td>\n",
       "      <td>106605900</td>\n",
       "      <td>0.0</td>\n",
       "      <td>0.0</td>\n",
       "    </tr>\n",
       "  </tbody>\n",
       "</table>\n",
       "</div>"
      ],
      "text/plain": [
       "                                 Open        High         Low       Close  \\\n",
       "Date                                                                        \n",
       "2024-01-17 00:00:00-05:00  214.860001  215.669998  212.009995  215.550003   \n",
       "2024-01-18 00:00:00-05:00  216.880005  217.449997  208.740005  211.880005   \n",
       "2024-01-19 00:00:00-05:00  209.990005  213.190002  207.559998  212.190002   \n",
       "2024-01-22 00:00:00-05:00  212.259995  217.800003  206.270004  208.800003   \n",
       "2024-01-23 00:00:00-05:00  211.300003  215.649994  207.750000  209.139999   \n",
       "\n",
       "                              Volume  Dividends  Stock Splits  \n",
       "Date                                                           \n",
       "2024-01-17 00:00:00-05:00  103164400        0.0           0.0  \n",
       "2024-01-18 00:00:00-05:00  108595400        0.0           0.0  \n",
       "2024-01-19 00:00:00-05:00  102095800        0.0           0.0  \n",
       "2024-01-22 00:00:00-05:00  117952500        0.0           0.0  \n",
       "2024-01-23 00:00:00-05:00  106605900        0.0           0.0  "
      ]
     },
     "execution_count": 239,
     "metadata": {},
     "output_type": "execute_result"
    }
   ],
   "source": [
    "tesla_data.head()"
   ]
  },
  {
   "cell_type": "markdown",
   "id": "baf5287d-638c-4124-8f43-bb575b7f3084",
   "metadata": {},
   "source": [
    "#### `QUESTION 2` "
   ]
  },
  {
   "cell_type": "markdown",
   "id": "3ace4f75-8438-4460-8ca9-52c4868c4238",
   "metadata": {},
   "source": [
    "# Tesla Revenue from website of companies MarketCap"
   ]
  },
  {
   "cell_type": "markdown",
   "id": "d2c54db2-8f18-4d65-a0ce-d22b796a2fbe",
   "metadata": {},
   "source": [
    "Use the `requests` library to download the webpage [https://companiesmarketcap.com/tesla/revenue/. Save the text of the response as a variable named `html`.\n"
   ]
  },
  {
   "cell_type": "code",
   "execution_count": 131,
   "id": "e1d875c2-ba21-4318-b251-ba888b283d15",
   "metadata": {},
   "outputs": [],
   "source": [
    "url = \"https://companiesmarketcap.com/tesla/revenue/\" "
   ]
  },
  {
   "cell_type": "code",
   "execution_count": 132,
   "id": "92bc8660-2daf-4a53-8098-93f8bd1c9013",
   "metadata": {},
   "outputs": [],
   "source": [
    "r = requests.get(url)"
   ]
  },
  {
   "cell_type": "code",
   "execution_count": 133,
   "id": "aa3394d0-1594-4daa-a1ba-ec1a2d7cb83e",
   "metadata": {},
   "outputs": [],
   "source": [
    "html = r.text"
   ]
  },
  {
   "cell_type": "markdown",
   "id": "3ea38dbc-e593-4bea-b077-dcfc6a2df723",
   "metadata": {},
   "source": [
    "Parse the html data using `beautiful_soup`.\n"
   ]
  },
  {
   "cell_type": "code",
   "execution_count": 142,
   "id": "b109550b-e009-42b7-93c4-8df5a391207d",
   "metadata": {},
   "outputs": [],
   "source": [
    "soup = BeautifulSoup(html , parser='lxml')"
   ]
  },
  {
   "cell_type": "markdown",
   "id": "829117dc-101d-4ca4-b902-ec461917e5ce",
   "metadata": {},
   "source": [
    "Looking for the revenue of 2023"
   ]
  },
  {
   "cell_type": "code",
   "execution_count": 179,
   "id": "f013d19f-26b7-4710-bdd5-c21646b24156",
   "metadata": {},
   "outputs": [
    {
     "name": "stdout",
     "output_type": "stream",
     "text": [
      "{'Revenue': '$96.77', 'Unite': 'B'}\n",
      "Revenue in 2023 (TTM): $96.77 B\n"
     ]
    }
   ],
   "source": [
    "tesla_data_rev = dict()\n",
    "col = soup.find_all('h2')\n",
    "tesla_revenue = col[0].text\n",
    "tesla_data_rev['Revenue' ] = tesla_revenue.split()[4]\n",
    "tesla_data_rev['Unite' ] = tesla_revenue.split()[5]\n",
    "print(tesla_data_rev)\n",
    "print(tesla_revenue)"
   ]
  },
  {
   "cell_type": "markdown",
   "id": "28a5548e-e912-412d-b9aa-d960a5d13a9d",
   "metadata": {},
   "source": [
    "#### `QUESTION 3`"
   ]
  },
  {
   "cell_type": "markdown",
   "id": "3a94b61f-5af3-4eef-832e-a3c1d5df2792",
   "metadata": {},
   "source": [
    "We will do the same thing as we did for Tesla"
   ]
  },
  {
   "cell_type": "code",
   "execution_count": 146,
   "id": "cc7295fc-1a01-4efb-853e-52e8fce8305f",
   "metadata": {},
   "outputs": [],
   "source": [
    "gamestop = yf.Ticker(\"GME\")"
   ]
  },
  {
   "cell_type": "code",
   "execution_count": 241,
   "id": "ebf5b1eb-d3b6-4c39-a1d7-247ddbb758c5",
   "metadata": {},
   "outputs": [],
   "source": [
    "gamestop_data = tesla.history(period=\"1mo\")"
   ]
  },
  {
   "cell_type": "code",
   "execution_count": 150,
   "id": "96fd2f37-f9bd-470b-bfcd-7593b5bee5a1",
   "metadata": {},
   "outputs": [],
   "source": [
    "gamestop_data.reset_index(inplace=True)"
   ]
  },
  {
   "cell_type": "code",
   "execution_count": 152,
   "id": "b94ef069-00de-4ae3-ab45-e9aaf4aa3ea1",
   "metadata": {},
   "outputs": [
    {
     "data": {
      "text/html": [
       "<div>\n",
       "<style scoped>\n",
       "    .dataframe tbody tr th:only-of-type {\n",
       "        vertical-align: middle;\n",
       "    }\n",
       "\n",
       "    .dataframe tbody tr th {\n",
       "        vertical-align: top;\n",
       "    }\n",
       "\n",
       "    .dataframe thead th {\n",
       "        text-align: right;\n",
       "    }\n",
       "</style>\n",
       "<table border=\"1\" class=\"dataframe\">\n",
       "  <thead>\n",
       "    <tr style=\"text-align: right;\">\n",
       "      <th></th>\n",
       "      <th>index</th>\n",
       "      <th>Date</th>\n",
       "      <th>Open</th>\n",
       "      <th>High</th>\n",
       "      <th>Low</th>\n",
       "      <th>Close</th>\n",
       "      <th>Volume</th>\n",
       "      <th>Dividends</th>\n",
       "      <th>Stock Splits</th>\n",
       "    </tr>\n",
       "  </thead>\n",
       "  <tbody>\n",
       "    <tr>\n",
       "      <th>0</th>\n",
       "      <td>0</td>\n",
       "      <td>2024-02-16 00:00:00-05:00</td>\n",
       "      <td>202.059998</td>\n",
       "      <td>203.169998</td>\n",
       "      <td>197.399994</td>\n",
       "      <td>199.949997</td>\n",
       "      <td>111173600</td>\n",
       "      <td>0.0</td>\n",
       "      <td>0.0</td>\n",
       "    </tr>\n",
       "  </tbody>\n",
       "</table>\n",
       "</div>"
      ],
      "text/plain": [
       "   index                      Date        Open        High         Low  \\\n",
       "0      0 2024-02-16 00:00:00-05:00  202.059998  203.169998  197.399994   \n",
       "\n",
       "        Close     Volume  Dividends  Stock Splits  \n",
       "0  199.949997  111173600        0.0           0.0  "
      ]
     },
     "execution_count": 152,
     "metadata": {},
     "output_type": "execute_result"
    }
   ],
   "source": [
    "gamestop_data.head()"
   ]
  },
  {
   "cell_type": "markdown",
   "id": "73454af8-8d6f-4536-9094-8211d7701277",
   "metadata": {},
   "source": [
    "#### `QUESTION 4`"
   ]
  },
  {
   "cell_type": "code",
   "execution_count": 163,
   "id": "bc652e4f-8724-48d1-a298-efb5eb0d1d89",
   "metadata": {},
   "outputs": [],
   "source": [
    "url2 = \"https://companiesmarketcap.com/gamestop/marketcap/\""
   ]
  },
  {
   "cell_type": "code",
   "execution_count": 164,
   "id": "97d69716-aa25-421b-9416-676cff0cb4bc",
   "metadata": {},
   "outputs": [],
   "source": [
    "r2 = requests.get(url2)"
   ]
  },
  {
   "cell_type": "code",
   "execution_count": 165,
   "id": "365eb5d3-bf1b-41a5-8d8e-ce9925c7b66c",
   "metadata": {},
   "outputs": [],
   "source": [
    "html2 = r2.text"
   ]
  },
  {
   "cell_type": "code",
   "execution_count": 240,
   "id": "7673d5cc-3552-426e-a482-aa53a372d84a",
   "metadata": {},
   "outputs": [],
   "source": [
    "soup2 =BeautifulSoup(html2 , parser='lxml')"
   ]
  },
  {
   "cell_type": "code",
   "execution_count": 181,
   "id": "260d2f63-e6fd-4123-a772-303ed15ca1aa",
   "metadata": {},
   "outputs": [
    {
     "name": "stdout",
     "output_type": "stream",
     "text": [
      "Market cap: $4.31 Billion\n",
      "{'Revenue': '$4.31', 'Unite': 'Billion'}\n"
     ]
    }
   ],
   "source": [
    "gamestop_data_rev = dict()\n",
    "col2 = soup2.find_all('h2')\n",
    "gamestop_revenue = col2[0].text\n",
    "print(gamestop_revenue)\n",
    "gamestop_data_rev['Revenue' ] = gamestop_revenue.split()[2]\n",
    "gamestop_data_rev['Unite' ] = gamestop_revenue.split()[3]\n",
    "print(gamestop_data_rev)"
   ]
  },
  {
   "cell_type": "markdown",
   "id": "607aee57-5a69-4b40-b1af-aafb89c6ad86",
   "metadata": {},
   "source": [
    "#### `QUESTION 5`"
   ]
  },
  {
   "cell_type": "code",
   "execution_count": 252,
   "id": "d068a273-5ec1-4232-aad4-2f63ec708510",
   "metadata": {},
   "outputs": [
    {
     "data": {
      "text/plain": [
       "[<matplotlib.lines.Line2D at 0x176a3ec90>]"
      ]
     },
     "execution_count": 252,
     "metadata": {},
     "output_type": "execute_result"
    },
    {
     "data": {
      "image/png": "[encoded data removed]",
      "text/plain": [
       "<Figure size 1000x600 with 1 Axes>"
      ]
     },
     "metadata": {},
     "output_type": "display_data"
    }
   ],
   "source": [
    "import matplotlib.pyplot as plt\n",
    "\n",
    "plt.figure(figsize=(10, 6))  # Optional: Adjusts the size of the plot\n",
    "plt.plot(tesla_data.index, tesla_data['Close'], label='Close Price')"
   ]
  },
  {
   "cell_type": "markdown",
   "id": "e8d14386-f67f-40e0-9516-8f7a3b156999",
   "metadata": {},
   "source": [
    "#### `QUESTION 6`"
   ]
  },
  {
   "cell_type": "code",
   "execution_count": 253,
   "id": "614423db-0ac2-4150-8318-86ce811b46d8",
   "metadata": {},
   "outputs": [
    {
     "data": {
      "text/plain": [
       "[<matplotlib.lines.Line2D at 0x1769cee90>]"
      ]
     },
     "execution_count": 253,
     "metadata": {},
     "output_type": "execute_result"
    },
    {
     "data": {
      "image/png": "[encoded data removed]",
      "text/plain": [
       "<Figure size 1000x600 with 1 Axes>"
      ]
     },
     "metadata": {},
     "output_type": "display_data"
    }
   ],
   "source": [
    "plt.figure(figsize=(10, 6))  # Optional: Adjusts the size of the plot\n",
    "plt.plot(gamestop_data.index, gamestop_data['Close'], label='Close Price')\n"
   ]
  }
 ],
 "metadata": {
  "kernelspec": {
   "display_name": "Python 3 (ipykernel)",
   "language": "python",
   "name": "python3"
  },
  "language_info": {
   "codemirror_mode": {
    "name": "ipython",
    "version": 3
   },
   "file_extension": ".py",
   "mimetype": "text/x-python",
   "name": "python",
   "nbconvert_exporter": "python",
   "pygments_lexer": "ipython3",
   "version": "3.11.5"
  }
 },
 "nbformat": 4,
 "nbformat_minor": 5
}
